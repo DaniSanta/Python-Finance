{
 "cells": [
  {
   "cell_type": "code",
   "execution_count": null,
   "metadata": {},
   "outputs": [],
   "source": [
    "#Import libraries needed \n",
    "import pandas as pd \n",
    "import numpy as np \n",
    "import yfinance as yf \n",
    "import datetime as dt \n",
    "from pandas_datareader import data as pdr "
   ]
  },
  {
   "cell_type": "code",
   "execution_count": null,
   "metadata": {},
   "outputs": [],
   "source": [
    "#activate yahoo finance workaround\n",
    "yf.pdr_override()\n",
    "\n",
    "#ask the user what stock they want to look at, stock = input\n",
    "stock = input(\"Enter a stock ticker symbol: \")\n",
    "print(stock)"
   ]
  },
  {
   "cell_type": "code",
   "execution_count": null,
   "metadata": {},
   "outputs": [],
   "source": [
    "#startdate data\n",
    "startyear = 2019\n",
    "startmonth = 1\n",
    "startday = 1\n",
    "\n",
    "#datetime object dictating the time of when we want the system to acess the data\n",
    "start = dt.datetime(startyear,startmonth,startday)\n",
    "\n",
    "now = dt.datetime.now()\n",
    "\n",
    "df = pdr.get_data_yahoo(stock,start,now)\n",
    "\n",
    "print(df)"
   ]
  },
  {
   "cell_type": "code",
   "execution_count": null,
   "metadata": {},
   "outputs": [],
   "source": [
    "#The moving average (MA) is a simple technical analysis tool that smooths out price data by creating a constantly updated average price. \n",
    "#The average is taken over a specific period of time, like 10 days, 20 minutes, 30 weeks or any time period the trader chooses\n",
    "\n",
    "ma = 50\n",
    "\n",
    "smaString = \"Sma_\" + str(ma)\n",
    "\n",
    "#The rolling moving average/ creating a simplem moving average in pandas.\n",
    "\n",
    "df[smaString] = df.iloc[:,4].rolling(window=ma).mean()\n",
    "print(df)\n",
    "\n",
    "#As you can see my first values do not have a ma value due to the 50 days haven't been completed yet, we will cut out the first 50 ma values.\n"
   ]
  },
  {
   "cell_type": "code",
   "execution_count": null,
   "metadata": {},
   "outputs": [],
   "source": [
    "#Now we have our data set.\n",
    "df = df.iloc[ma:]\n",
    "\n",
    "print(df)"
   ]
  },
  {
   "cell_type": "code",
   "execution_count": null,
   "metadata": {},
   "outputs": [],
   "source": [
    "#count the number of times for H/C\n",
    "numH = 0 \n",
    "numC = 0 \n",
    "\n",
    "for i in df.index: \n",
    "    if (df[\"Adj Close\"][i]>df[smaString][i]):\n",
    "        print(\"The Close is higher\")\n",
    "        numH+=1\n",
    "    else:\n",
    "        print(\"The Close is Lower\")\n",
    "        numC+=1\n",
    "print(str(numH))\n",
    "print(str(numC))"
   ]
  },
  {
   "cell_type": "code",
   "execution_count": null,
   "metadata": {},
   "outputs": [],
   "source": []
  }
 ],
 "metadata": {
  "kernelspec": {
   "display_name": "Python 3",
   "language": "python",
   "name": "python3"
  },
  "language_info": {
   "codemirror_mode": {
    "name": "ipython",
    "version": 3
   },
   "file_extension": ".py",
   "mimetype": "text/x-python",
   "name": "python",
   "nbconvert_exporter": "python",
   "pygments_lexer": "ipython3",
   "version": "3.7.4"
  }
 },
 "nbformat": 4,
 "nbformat_minor": 2
}
